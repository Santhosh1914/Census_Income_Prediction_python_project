{
 "cells": [
  {
   "cell_type": "markdown",
   "id": "cd6dc09b",
   "metadata": {},
   "source": [
    "# importing some libraries  "
   ]
  },
  {
   "cell_type": "code",
   "execution_count": 38,
   "id": "a6aece2f",
   "metadata": {},
   "outputs": [],
   "source": [
    "import numpy as np\n",
    "import pandas as pd "
   ]
  },
  {
   "cell_type": "markdown",
   "id": "d90e746e",
   "metadata": {},
   "source": [
    "# Importing Dataset"
   ]
  },
  {
   "cell_type": "code",
   "execution_count": 39,
   "id": "1e889c0d",
   "metadata": {},
   "outputs": [],
   "source": [
    "dataset =pd.read_csv('adult.csv',header=None)\n",
    "x=dataset.iloc[:,:-1].values\n",
    "y=dataset.iloc[:,-1].values"
   ]
  },
  {
   "cell_type": "code",
   "execution_count": 40,
   "id": "b2baacc7",
   "metadata": {
    "scrolled": true
   },
   "outputs": [
    {
     "name": "stdout",
     "output_type": "stream",
     "text": [
      "[[90 '?' 77053 ... 4356 40 'United-States']\n",
      " [82 'Private' 132870 ... 4356 18 'United-States']\n",
      " [66 '?' 186061 ... 4356 40 'United-States']\n",
      " ...\n",
      " [40 'Private' 154374 ... 0 40 'United-States']\n",
      " [58 'Private' 151910 ... 0 40 'United-States']\n",
      " [22 'Private' 201490 ... 0 20 'United-States']]\n"
     ]
    }
   ],
   "source": [
    "print(x)"
   ]
  },
  {
   "cell_type": "code",
   "execution_count": 6,
   "id": "2b619157",
   "metadata": {},
   "outputs": [
    {
     "name": "stdout",
     "output_type": "stream",
     "text": [
      "['income' '<=50K' '<=50K' ... '>50K' '<=50K' '<=50K']\n"
     ]
    }
   ],
   "source": [
    "print(y)"
   ]
  },
  {
   "cell_type": "code",
   "execution_count": 8,
   "id": "8b1c0af9",
   "metadata": {},
   "outputs": [
    {
     "name": "stdout",
     "output_type": "stream",
     "text": [
      "['income' '<=50K' '<=50K' ... '>50K' '<=50K' '<=50K']\n"
     ]
    }
   ],
   "source": [
    "print(y)"
   ]
  },
  {
   "cell_type": "markdown",
   "id": "0ba56eb8",
   "metadata": {},
   "source": [
    "# data preprocessing"
   ]
  },
  {
   "cell_type": "code",
   "execution_count": 41,
   "id": "d6c77f38",
   "metadata": {},
   "outputs": [],
   "source": [
    "from sklearn.impute import SimpleImputer\n",
    "imputer=SimpleImputer(missing_values=np.nan,strategy='most_frequent')\n",
    "imputer.fit(x[:,1:])\n",
    "x[:,1:]=imputer.transform(x[:,1:])"
   ]
  },
  {
   "cell_type": "markdown",
   "id": "8aa88d76",
   "metadata": {},
   "source": [
    "# label encoding\n"
   ]
  },
  {
   "cell_type": "code",
   "execution_count": 42,
   "id": "485e3840",
   "metadata": {},
   "outputs": [],
   "source": [
    "from sklearn.preprocessing import LabelEncoder\n",
    "le1=LabelEncoder()\n",
    "le3=LabelEncoder()\n",
    "le5=LabelEncoder()\n",
    "le6=LabelEncoder()\n",
    "le7=LabelEncoder()\n",
    "le8=LabelEncoder()\n",
    "le9=LabelEncoder()\n",
    "le13=LabelEncoder()\n",
    "le=LabelEncoder()\n",
    "x[:,1]=le1.fit_transform(x[:,1])\n",
    "x[:,3]=le3.fit_transform(x[:,3])\n",
    "x[:,5]=le5.fit_transform(x[:,5])\n",
    "x[:,6]=le6.fit_transform(x[:,6])\n",
    "x[:,7]=le7.fit_transform(x[:,7])\n",
    "x[:,8]=le8.fit_transform(x[:,8])\n",
    "x[:,9]=le9.fit_transform(x[:,9])\n",
    "x[:,13]=le13.fit_transform(x[:,13])\n",
    "y=le.fit_transform(y)"
   ]
  },
  {
   "cell_type": "code",
   "execution_count": 46,
   "id": "8a23cac4",
   "metadata": {},
   "outputs": [
    {
     "name": "stdout",
     "output_type": "stream",
     "text": [
      "[[90 0 77053 ... 4356 40 39]\n",
      " [82 4 132870 ... 4356 18 39]\n",
      " [66 0 186061 ... 4356 40 39]\n",
      " ...\n",
      " [40 4 154374 ... 0 40 39]\n",
      " [58 4 151910 ... 0 40 39]\n",
      " [22 4 201490 ... 0 20 39]]\n"
     ]
    }
   ],
   "source": [
    "print(x)"
   ]
  },
  {
   "cell_type": "code",
   "execution_count": 47,
   "id": "7e4b655b",
   "metadata": {},
   "outputs": [
    {
     "name": "stdout",
     "output_type": "stream",
     "text": [
      "[0 0 0 ... 1 0 0]\n"
     ]
    }
   ],
   "source": [
    "print(y)"
   ]
  },
  {
   "cell_type": "markdown",
   "id": "0b71b1c4",
   "metadata": {},
   "source": [
    "# Splitting Dataset into Training set and Test set"
   ]
  },
  {
   "cell_type": "code",
   "execution_count": 43,
   "id": "139e333e",
   "metadata": {},
   "outputs": [],
   "source": [
    "from sklearn.model_selection import train_test_split\n",
    "X_train,X_test,Y_train,Y_test=train_test_split(x,y,test_size=0.2,random_state=0)"
   ]
  },
  {
   "cell_type": "code",
   "execution_count": 16,
   "id": "590a9132",
   "metadata": {},
   "outputs": [
    {
     "name": "stdout",
     "output_type": "stream",
     "text": [
      "[['58' 4 '183870' ... '0' '40' 39]\n",
      " ['25' 2 '191921' ... '0' '25' 39]\n",
      " ['36' 0 '139770' ... '0' '32' 39]\n",
      " ...\n",
      " ['47' 4 '179313' ... '0' '30' 39]\n",
      " ['34' 0 '133861' ... '0' '25' 39]\n",
      " ['57' 0 '300104' ... '0' '84' 39]]\n"
     ]
    }
   ],
   "source": [
    "print(X_train)"
   ]
  },
  {
   "cell_type": "markdown",
   "id": "4568656e",
   "metadata": {},
   "source": [
    "# Feature Scaling"
   ]
  },
  {
   "cell_type": "code",
   "execution_count": 44,
   "id": "f6f56115",
   "metadata": {},
   "outputs": [],
   "source": [
    "from sklearn.preprocessing import StandardScaler\n",
    "sc=StandardScaler()\n",
    "X_train=sc.fit_transform(X_train)\n",
    "X_test=sc.transform(X_test)"
   ]
  },
  {
   "cell_type": "code",
   "execution_count": 48,
   "id": "dada83fe",
   "metadata": {},
   "outputs": [
    {
     "name": "stdout",
     "output_type": "stream",
     "text": [
      "[[ 1.2756673   0.0881075   0.798076   ... -0.21852035 -0.03957962\n",
      "   0.2922993 ]\n",
      " [-1.43238893  0.0881075   0.44837028 ... -0.21852035 -1.2548683\n",
      "   0.2922993 ]\n",
      " [-1.1396261   0.0881075  -0.60928644 ... -0.21852035 -0.44467585\n",
      "   0.42016153]\n",
      " ...\n",
      " [-0.55410042  0.0881075  -0.78629308 ...  4.06403307 -0.03957962\n",
      "   0.2922993 ]\n",
      " [ 0.17780667  0.0881075   0.12168543 ... -0.21852035 -0.03957962\n",
      "   0.2922993 ]\n",
      " [-0.11495617  0.0881075  -0.27280567 ... -0.21852035 -0.03957962\n",
      "   0.2922993 ]]\n"
     ]
    }
   ],
   "source": [
    "print(X_test)"
   ]
  },
  {
   "cell_type": "markdown",
   "id": "e72caa32",
   "metadata": {},
   "source": [
    "# Training dataset"
   ]
  },
  {
   "cell_type": "code",
   "execution_count": 45,
   "id": "b3a3b321",
   "metadata": {},
   "outputs": [
    {
     "data": {
      "text/plain": [
       "XGBClassifier(base_score=None, booster=None, callbacks=None,\n",
       "              colsample_bylevel=None, colsample_bynode=None,\n",
       "              colsample_bytree=None, early_stopping_rounds=None,\n",
       "              enable_categorical=False, eval_metric=None, feature_types=None,\n",
       "              gamma=None, gpu_id=None, grow_policy=None, importance_type=None,\n",
       "              interaction_constraints=None, learning_rate=None, max_bin=None,\n",
       "              max_cat_threshold=None, max_cat_to_onehot=None,\n",
       "              max_delta_step=None, max_depth=None, max_leaves=None,\n",
       "              min_child_weight=None, missing=nan, monotone_constraints=None,\n",
       "              n_estimators=100, n_jobs=None, num_parallel_tree=None,\n",
       "              predictor=None, random_state=None, ...)"
      ]
     },
     "execution_count": 45,
     "metadata": {},
     "output_type": "execute_result"
    }
   ],
   "source": [
    "from xgboost import XGBClassifier\n",
    "classifier=XGBClassifier()\n",
    "classifier.fit(X_train,Y_train)"
   ]
  },
  {
   "cell_type": "markdown",
   "id": "3b0febb7",
   "metadata": {},
   "source": [
    "# Making Confusion Matrix"
   ]
  },
  {
   "cell_type": "code",
   "execution_count": 49,
   "id": "939bbf7a",
   "metadata": {},
   "outputs": [
    {
     "name": "stdout",
     "output_type": "stream",
     "text": [
      "[[4659  307]\n",
      " [ 550  997]]\n"
     ]
    },
    {
     "data": {
      "text/plain": [
       "0.868417012129587"
      ]
     },
     "execution_count": 49,
     "metadata": {},
     "output_type": "execute_result"
    }
   ],
   "source": [
    "from sklearn.metrics import confusion_matrix,accuracy_score\n",
    "y_pred=classifier.predict(X_test)\n",
    "cm=confusion_matrix(Y_test,y_pred)\n",
    "print(cm)\n",
    "accuracy_score(Y_test,y_pred)"
   ]
  },
  {
   "cell_type": "code",
   "execution_count": 50,
   "id": "57ac467e",
   "metadata": {},
   "outputs": [
    {
     "name": "stdout",
     "output_type": "stream",
     "text": [
      "[[0 0]\n",
      " [0 0]\n",
      " [0 0]\n",
      " ...\n",
      " [0 0]\n",
      " [0 0]\n",
      " [0 0]]\n"
     ]
    }
   ],
   "source": [
    "  print(np.concatenate((y_pred.reshape(len(y_pred),1),Y_test.reshape(len(Y_test),1)),1))"
   ]
  },
  {
   "cell_type": "code",
   "execution_count": 56,
   "id": "f39ca012",
   "metadata": {},
   "outputs": [
    {
     "name": "stdout",
     "output_type": "stream",
     "text": [
      "He/She get below $50k per year\n"
     ]
    }
   ],
   "source": [
    "result=classifier.predict(sc.transform([[40,4,80000,9,9,0,4,0,4,1,0,1000,50,39]]))\n",
    "if result==[0]:\n",
    "  print(\"He/She get below $50k per year\")\n",
    "else:\n",
    "  print(\"He/She get above $50k per year\")"
   ]
  },
  {
   "cell_type": "markdown",
   "id": "c2150df3",
   "metadata": {},
   "source": [
    "# Predict whether income exceeds $50K/yr based on census data"
   ]
  },
  {
   "cell_type": "code",
   "execution_count": null,
   "id": "a5562598",
   "metadata": {},
   "outputs": [],
   "source": []
  }
 ],
 "metadata": {
  "kernelspec": {
   "display_name": "Python 3 (ipykernel)",
   "language": "python",
   "name": "python3"
  },
  "language_info": {
   "codemirror_mode": {
    "name": "ipython",
    "version": 3
   },
   "file_extension": ".py",
   "mimetype": "text/x-python",
   "name": "python",
   "nbconvert_exporter": "python",
   "pygments_lexer": "ipython3",
   "version": "3.9.7"
  }
 },
 "nbformat": 4,
 "nbformat_minor": 5
}
